{
 "metadata": {
  "language_info": {
   "codemirror_mode": {
    "name": "ipython",
    "version": 3
   },
   "file_extension": ".py",
   "mimetype": "text/x-python",
   "name": "python",
   "nbconvert_exporter": "python",
   "pygments_lexer": "ipython3",
   "version": "3.8.3"
  },
  "orig_nbformat": 2,
  "kernelspec": {
   "name": "python383jvsc74a57bd015fbbf9d76e2bb2c7948b48de69b6c072940a7bf4e905d00e110875ed0d1df3e",
   "display_name": "Python 3.8.3 64-bit ('anaconda3': virtualenv)"
  }
 },
 "nbformat": 4,
 "nbformat_minor": 2,
 "cells": [
  {
   "cell_type": "code",
   "execution_count": 16,
   "metadata": {},
   "outputs": [
    {
     "output_type": "execute_result",
     "data": {
      "text/plain": [
       "          Player   Tm Pos   Age   G  GS  Tgt  Rec  PassingYds  PassingTD  \\\n",
       "0  Derrick Henry  TEN  RB  26.0  16  16   31   19           0          0   \n",
       "1   Alvin Kamara  NOR  RB  25.0  15  10  107   83           0          0   \n",
       "2    Dalvin Cook  MIN  RB  25.0  14  14   54   44           0          0   \n",
       "3  Davante Adams  GNB  WR  28.0  14  14  149  115           0          0   \n",
       "4   Travis Kelce  KAN  TE  31.0  15  15  145  105           4          0   \n",
       "\n",
       "   PassingAtt  RushingYds  RushingTD  RushingAtt  ReceivingYds  ReceivingTD  \\\n",
       "0           0        2027         17         378           114            0   \n",
       "1           0         932         16         187           756            5   \n",
       "2           0        1557         16         312           361            1   \n",
       "3           0           0          0           0          1374           18   \n",
       "4           2           0          0           0          1416           11   \n",
       "\n",
       "   FantasyPoints  Int  Fumbles  FumblesLost  \n",
       "0          314.0    0        3            2  \n",
       "1          295.0    0        1            0  \n",
       "2          294.0    0        5            3  \n",
       "3          243.0    0        1            1  \n",
       "4          208.0    0        1            1  "
      ],
      "text/html": "<div>\n<style scoped>\n    .dataframe tbody tr th:only-of-type {\n        vertical-align: middle;\n    }\n\n    .dataframe tbody tr th {\n        vertical-align: top;\n    }\n\n    .dataframe thead th {\n        text-align: right;\n    }\n</style>\n<table border=\"1\" class=\"dataframe\">\n  <thead>\n    <tr style=\"text-align: right;\">\n      <th></th>\n      <th>Player</th>\n      <th>Tm</th>\n      <th>Pos</th>\n      <th>Age</th>\n      <th>G</th>\n      <th>GS</th>\n      <th>Tgt</th>\n      <th>Rec</th>\n      <th>PassingYds</th>\n      <th>PassingTD</th>\n      <th>PassingAtt</th>\n      <th>RushingYds</th>\n      <th>RushingTD</th>\n      <th>RushingAtt</th>\n      <th>ReceivingYds</th>\n      <th>ReceivingTD</th>\n      <th>FantasyPoints</th>\n      <th>Int</th>\n      <th>Fumbles</th>\n      <th>FumblesLost</th>\n    </tr>\n  </thead>\n  <tbody>\n    <tr>\n      <th>0</th>\n      <td>Derrick Henry</td>\n      <td>TEN</td>\n      <td>RB</td>\n      <td>26.0</td>\n      <td>16</td>\n      <td>16</td>\n      <td>31</td>\n      <td>19</td>\n      <td>0</td>\n      <td>0</td>\n      <td>0</td>\n      <td>2027</td>\n      <td>17</td>\n      <td>378</td>\n      <td>114</td>\n      <td>0</td>\n      <td>314.0</td>\n      <td>0</td>\n      <td>3</td>\n      <td>2</td>\n    </tr>\n    <tr>\n      <th>1</th>\n      <td>Alvin Kamara</td>\n      <td>NOR</td>\n      <td>RB</td>\n      <td>25.0</td>\n      <td>15</td>\n      <td>10</td>\n      <td>107</td>\n      <td>83</td>\n      <td>0</td>\n      <td>0</td>\n      <td>0</td>\n      <td>932</td>\n      <td>16</td>\n      <td>187</td>\n      <td>756</td>\n      <td>5</td>\n      <td>295.0</td>\n      <td>0</td>\n      <td>1</td>\n      <td>0</td>\n    </tr>\n    <tr>\n      <th>2</th>\n      <td>Dalvin Cook</td>\n      <td>MIN</td>\n      <td>RB</td>\n      <td>25.0</td>\n      <td>14</td>\n      <td>14</td>\n      <td>54</td>\n      <td>44</td>\n      <td>0</td>\n      <td>0</td>\n      <td>0</td>\n      <td>1557</td>\n      <td>16</td>\n      <td>312</td>\n      <td>361</td>\n      <td>1</td>\n      <td>294.0</td>\n      <td>0</td>\n      <td>5</td>\n      <td>3</td>\n    </tr>\n    <tr>\n      <th>3</th>\n      <td>Davante Adams</td>\n      <td>GNB</td>\n      <td>WR</td>\n      <td>28.0</td>\n      <td>14</td>\n      <td>14</td>\n      <td>149</td>\n      <td>115</td>\n      <td>0</td>\n      <td>0</td>\n      <td>0</td>\n      <td>0</td>\n      <td>0</td>\n      <td>0</td>\n      <td>1374</td>\n      <td>18</td>\n      <td>243.0</td>\n      <td>0</td>\n      <td>1</td>\n      <td>1</td>\n    </tr>\n    <tr>\n      <th>4</th>\n      <td>Travis Kelce</td>\n      <td>KAN</td>\n      <td>TE</td>\n      <td>31.0</td>\n      <td>15</td>\n      <td>15</td>\n      <td>145</td>\n      <td>105</td>\n      <td>4</td>\n      <td>0</td>\n      <td>2</td>\n      <td>0</td>\n      <td>0</td>\n      <td>0</td>\n      <td>1416</td>\n      <td>11</td>\n      <td>208.0</td>\n      <td>0</td>\n      <td>1</td>\n      <td>1</td>\n    </tr>\n  </tbody>\n</table>\n</div>"
     },
     "metadata": {},
     "execution_count": 16
    }
   ],
   "source": [
    "import pandas as pd; pd.set_option('display.max_column', None)\n",
    "import seaborn as sns\n",
    "from matplotlib import pyplot as plt\n",
    "\n",
    "df = pd.read_csv('https://raw.githubusercontent.com/fantasydatapros/data/master/yearly/2020.csv')\n",
    "df.head()\n"
   ]
  },
  {
   "cell_type": "code",
   "execution_count": 17,
   "metadata": {},
   "outputs": [
    {
     "output_type": "execute_result",
     "data": {
      "text/plain": [
       "          Player   Tm Pos   Age   G  GS  Tgt  Rec  PassingYds  PassingTD  \\\n",
       "0  Derrick Henry  TEN  RB  26.0  16  16   31   19           0          0   \n",
       "1   Alvin Kamara  NOR  RB  25.0  15  10  107   83           0          0   \n",
       "2    Dalvin Cook  MIN  RB  25.0  14  14   54   44           0          0   \n",
       "3  Davante Adams  GNB  WR  28.0  14  14  149  115           0          0   \n",
       "4   Travis Kelce  KAN  TE  31.0  15  15  145  105           4          0   \n",
       "\n",
       "   PassingAtt  RushingYds  RushingTD  RushingAtt  ReceivingYds  ReceivingTD  \\\n",
       "0           0        2027         17         378           114            0   \n",
       "1           0         932         16         187           756            5   \n",
       "2           0        1557         16         312           361            1   \n",
       "3           0           0          0           0          1374           18   \n",
       "4           2           0          0           0          1416           11   \n",
       "\n",
       "   FantasyPoints  Int  Fumbles  FumblesLost  \n",
       "0          314.0    0        3            2  \n",
       "1          295.0    0        1            0  \n",
       "2          294.0    0        5            3  \n",
       "3          243.0    0        1            1  \n",
       "4          208.0    0        1            1  "
      ],
      "text/html": "<div>\n<style scoped>\n    .dataframe tbody tr th:only-of-type {\n        vertical-align: middle;\n    }\n\n    .dataframe tbody tr th {\n        vertical-align: top;\n    }\n\n    .dataframe thead th {\n        text-align: right;\n    }\n</style>\n<table border=\"1\" class=\"dataframe\">\n  <thead>\n    <tr style=\"text-align: right;\">\n      <th></th>\n      <th>Player</th>\n      <th>Tm</th>\n      <th>Pos</th>\n      <th>Age</th>\n      <th>G</th>\n      <th>GS</th>\n      <th>Tgt</th>\n      <th>Rec</th>\n      <th>PassingYds</th>\n      <th>PassingTD</th>\n      <th>PassingAtt</th>\n      <th>RushingYds</th>\n      <th>RushingTD</th>\n      <th>RushingAtt</th>\n      <th>ReceivingYds</th>\n      <th>ReceivingTD</th>\n      <th>FantasyPoints</th>\n      <th>Int</th>\n      <th>Fumbles</th>\n      <th>FumblesLost</th>\n    </tr>\n  </thead>\n  <tbody>\n    <tr>\n      <th>0</th>\n      <td>Derrick Henry</td>\n      <td>TEN</td>\n      <td>RB</td>\n      <td>26.0</td>\n      <td>16</td>\n      <td>16</td>\n      <td>31</td>\n      <td>19</td>\n      <td>0</td>\n      <td>0</td>\n      <td>0</td>\n      <td>2027</td>\n      <td>17</td>\n      <td>378</td>\n      <td>114</td>\n      <td>0</td>\n      <td>314.0</td>\n      <td>0</td>\n      <td>3</td>\n      <td>2</td>\n    </tr>\n    <tr>\n      <th>1</th>\n      <td>Alvin Kamara</td>\n      <td>NOR</td>\n      <td>RB</td>\n      <td>25.0</td>\n      <td>15</td>\n      <td>10</td>\n      <td>107</td>\n      <td>83</td>\n      <td>0</td>\n      <td>0</td>\n      <td>0</td>\n      <td>932</td>\n      <td>16</td>\n      <td>187</td>\n      <td>756</td>\n      <td>5</td>\n      <td>295.0</td>\n      <td>0</td>\n      <td>1</td>\n      <td>0</td>\n    </tr>\n    <tr>\n      <th>2</th>\n      <td>Dalvin Cook</td>\n      <td>MIN</td>\n      <td>RB</td>\n      <td>25.0</td>\n      <td>14</td>\n      <td>14</td>\n      <td>54</td>\n      <td>44</td>\n      <td>0</td>\n      <td>0</td>\n      <td>0</td>\n      <td>1557</td>\n      <td>16</td>\n      <td>312</td>\n      <td>361</td>\n      <td>1</td>\n      <td>294.0</td>\n      <td>0</td>\n      <td>5</td>\n      <td>3</td>\n    </tr>\n    <tr>\n      <th>3</th>\n      <td>Davante Adams</td>\n      <td>GNB</td>\n      <td>WR</td>\n      <td>28.0</td>\n      <td>14</td>\n      <td>14</td>\n      <td>149</td>\n      <td>115</td>\n      <td>0</td>\n      <td>0</td>\n      <td>0</td>\n      <td>0</td>\n      <td>0</td>\n      <td>0</td>\n      <td>1374</td>\n      <td>18</td>\n      <td>243.0</td>\n      <td>0</td>\n      <td>1</td>\n      <td>1</td>\n    </tr>\n    <tr>\n      <th>4</th>\n      <td>Travis Kelce</td>\n      <td>KAN</td>\n      <td>TE</td>\n      <td>31.0</td>\n      <td>15</td>\n      <td>15</td>\n      <td>145</td>\n      <td>105</td>\n      <td>4</td>\n      <td>0</td>\n      <td>2</td>\n      <td>0</td>\n      <td>0</td>\n      <td>0</td>\n      <td>1416</td>\n      <td>11</td>\n      <td>208.0</td>\n      <td>0</td>\n      <td>1</td>\n      <td>1</td>\n    </tr>\n  </tbody>\n</table>\n</div>"
     },
     "metadata": {},
     "execution_count": 17
    }
   ],
   "source": [
    "df.head()\n"
   ]
  },
  {
   "cell_type": "code",
   "execution_count": 18,
   "metadata": {},
   "outputs": [
    {
     "output_type": "stream",
     "name": "stdout",
     "text": [
      "<class 'pandas.core.frame.DataFrame'>\nRangeIndex: 626 entries, 0 to 625\nData columns (total 20 columns):\n #   Column         Non-Null Count  Dtype  \n---  ------         --------------  -----  \n 0   Player         626 non-null    object \n 1   Tm             626 non-null    object \n 2   Pos            578 non-null    object \n 3   Age            625 non-null    float64\n 4   G              626 non-null    int64  \n 5   GS             626 non-null    int64  \n 6   Tgt            626 non-null    int64  \n 7   Rec            626 non-null    int64  \n 8   PassingYds     626 non-null    int64  \n 9   PassingTD      626 non-null    int64  \n 10  PassingAtt     626 non-null    int64  \n 11  RushingYds     626 non-null    int64  \n 12  RushingTD      626 non-null    int64  \n 13  RushingAtt     626 non-null    int64  \n 14  ReceivingYds   626 non-null    int64  \n 15  ReceivingTD    626 non-null    int64  \n 16  FantasyPoints  570 non-null    float64\n 17  Int            626 non-null    int64  \n 18  Fumbles        626 non-null    int64  \n 19  FumblesLost    626 non-null    int64  \ndtypes: float64(2), int64(15), object(3)\nmemory usage: 97.9+ KB\n"
     ]
    }
   ],
   "source": [
    "df.info(verbose=True)\n"
   ]
  },
  {
   "cell_type": "code",
   "execution_count": 19,
   "metadata": {},
   "outputs": [],
   "source": [
    "pd.set_option('chained_assignment', None)"
   ]
  },
  {
   "cell_type": "code",
   "execution_count": null,
   "metadata": {},
   "outputs": [],
   "source": [
    "fantasy_scoring_weights = {\n",
    "    'RushingYds' : 0.1,\n",
    "    'ReceivingYds' : 6,\n",
    "    'ReceivingTd' : 6,\n",
    "    'RushingTd' : 6,\n",
    "    'FumblesLost' : -2,\n",
    "    'Rec' : 1,\n",
    "}\n",
    "\n",
    "rb_df = df.loc(df['Pos'] == 'RB')\n",
    "\n",
    "def get_fantasy_points(row):\n",
    "    g = row['G']\n",
    "    fantasy_points = sum(\n",
    "        [row[column] * weight for column, weight in fantasy_socring_weights.items()]\n",
    "    )\n",
    "    return fantasy_points / g\n",
    "rb_df['FantasyPoints/G'] = rb_df.apply(get_fantasy_points, axis)"
   ]
  }
 ]
}