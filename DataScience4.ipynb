{
 "metadata": {
  "language_info": {
   "codemirror_mode": {
    "name": "ipython",
    "version": 3
   },
   "file_extension": ".py",
   "mimetype": "text/x-python",
   "name": "python",
   "nbconvert_exporter": "python",
   "pygments_lexer": "ipython3",
   "version": 3
  },
  "orig_nbformat": 2
 },
 "nbformat": 4,
 "nbformat_minor": 2,
 "cells": [
  {
   "cell_type": "code",
   "execution_count": null,
   "metadata": {},
   "outputs": [],
   "source": [
    "from typing import List\n",
    "\n",
    "Vector = List[float]\n",
    "\n",
    "height_weight_age = [70, 170, 40]\n",
    "\n",
    "grades = [95, 80, 75, 62]\n",
    "\n",
    "def add(v: Vecctor, w:Vector) -> Vector:\n",
    "    \"\"\"Adds corresponding Elements \"\"\"\n",
    "    assert len(v) == len(w),\n",
    "    return [v_i + w_i for v_i, w_i in zip(v, w)]\n",
    "\n",
    "def subtract(v: Vecctor, w: Vector) -> Vector:\n",
    "    assert len(v) == len(w),\n",
    "    return [v_i - w_i for v_i, w_i in zip(v, w)]\n",
    "\n",
    "\n"
   ]
  }
 ]
}